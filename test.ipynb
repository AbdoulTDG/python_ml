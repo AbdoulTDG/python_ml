{
 "cells": [
  {
   "cell_type": "code",
   "execution_count": 2,
   "metadata": {},
   "outputs": [
    {
     "name": "stderr",
     "output_type": "stream",
     "text": [
      "c:\\Users\\LNQP1128\\AppData\\Local\\Programs\\Python\\Python310\\lib\\site-packages\\xlsxwriter\\worksheet.py:1439: UserWarning: Image file 'logo.png' not found.\n",
      "  warn(\"Image file '%s' not found.\" % filename)\n"
     ]
    }
   ],
   "source": [
    "import xlsxwriter\n",
    "\n",
    "\n",
    "# Create an new Excel file and add a worksheet.\n",
    "workbook = xlsxwriter.Workbook('demo.xlsx')\n",
    "worksheet = workbook.add_worksheet()\n",
    "\n",
    "# Widen the first column to make the text clearer.\n",
    "worksheet.set_column('A:A', 20)\n",
    "\n",
    "# Add a bold format to use to highlight cells.\n",
    "bold = workbook.add_format({'bold': True})\n",
    "\n",
    "# Write some simple text.\n",
    "worksheet.write('A1', 'Hello')\n",
    "\n",
    "# Text with formatting.\n",
    "worksheet.write('A2', 'World', bold)\n",
    "\n",
    "# Write some numbers, with row/column notation.\n",
    "worksheet.write(2, 0, 123)\n",
    "worksheet.write(3, 0, 123.456)\n",
    "\n",
    "# Insert an image.\n",
    "worksheet.insert_image('B5', 'logo.png')\n",
    "\n",
    "workbook.close()"
   ]
  },
  {
   "cell_type": "code",
   "execution_count": null,
   "metadata": {},
   "outputs": [],
   "source": []
  }
 ],
 "metadata": {
  "kernelspec": {
   "display_name": "Python 3.10.0 64-bit",
   "language": "python",
   "name": "python3"
  },
  "language_info": {
   "codemirror_mode": {
    "name": "ipython",
    "version": 3
   },
   "file_extension": ".py",
   "mimetype": "text/x-python",
   "name": "python",
   "nbconvert_exporter": "python",
   "pygments_lexer": "ipython3",
   "version": "3.10.0"
  },
  "orig_nbformat": 4,
  "vscode": {
   "interpreter": {
    "hash": "3b64d9d7a34287e00eba731577842b84e85b36ac52ff9ccf460fe4692bc1fe38"
   }
  }
 },
 "nbformat": 4,
 "nbformat_minor": 2
}
